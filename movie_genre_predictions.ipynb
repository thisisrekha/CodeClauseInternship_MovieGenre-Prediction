{
  "nbformat": 4,
  "nbformat_minor": 0,
  "metadata": {
    "colab": {
      "provenance": []
    },
    "kernelspec": {
      "name": "python3",
      "display_name": "Python 3"
    },
    "language_info": {
      "name": "python"
    }
  },
  "cells": [
    {
      "cell_type": "code",
      "execution_count": 1,
      "metadata": {
        "id": "spvqmYocTGJ-"
      },
      "outputs": [],
      "source": [
        "import numpy as np\n",
        "import pandas as pd\n",
        "import seaborn as sns\n",
        "import matplotlib.pyplot as plt"
      ]
    },
    {
      "cell_type": "code",
      "source": [
        "import re\n",
        "import nltk\n",
        "import string\n",
        "import json\n",
        "from nltk.corpus import stopwords\n",
        "from nltk.stem import LancasterStemmer\n",
        "from sklearn.feature_extraction.text import TfidfVectorizer\n",
        "from sklearn.model_selection import train_test_split\n",
        "from sklearn.naive_bayes import MultinomialNB\n",
        "from sklearn.metrics import accuracy_score, classification_report"
      ],
      "metadata": {
        "id": "pxUFStSHThlh"
      },
      "execution_count": 2,
      "outputs": []
    },
    {
      "cell_type": "code",
      "source": [
        "train = pd.read_csv('train.csv')\n",
        "train"
      ],
      "metadata": {
        "colab": {
          "base_uri": "https://localhost:8080/",
          "height": 423
        },
        "id": "HPdGsE9STl4g",
        "outputId": "9858c78a-3067-4b37-a7e1-c6cfe421e4f0"
      },
      "execution_count": 5,
      "outputs": [
        {
          "output_type": "execute_result",
          "data": {
            "text/plain": [
              "          id                                         movie_name  \\\n",
              "0      44978                                           Super Me   \n",
              "1      50185                                     Entity Project   \n",
              "2      34131  Behavioral Family Therapy for Serious Psychiat...   \n",
              "3      78522                                      Blood Glacier   \n",
              "4       2206                                      Apat na anino   \n",
              "...      ...                                                ...   \n",
              "53995  80325          Untitled Monkeyshine/Ugly Brother Project   \n",
              "53996  84712                                  The Great Swindle   \n",
              "53997  69801                              When Men Get Pregnant   \n",
              "53998   7678                             Suttu Pidikka Utharavu   \n",
              "53999  33970                                    Margo the Mouse   \n",
              "\n",
              "                                                synopsis     genre  \n",
              "0      A young scriptwriter starts bringing valuable ...   fantasy  \n",
              "1      A director and her friends renting a haunted h...    horror  \n",
              "2      This is an educational video for families and ...    family  \n",
              "3      Scientists working in the Austrian Alps discov...     scifi  \n",
              "4      Buy Day - Four Men Widely - Apart in Life - By...    action  \n",
              "...                                                  ...       ...  \n",
              "53995  Two loser pest control buddies find themselves...     scifi  \n",
              "53996  A seductive woman gets involved in relationshi...  thriller  \n",
              "53997  Duyen, a wedding dress staff, who decides to c...   romance  \n",
              "53998  The people of a crowded colony in Coimbatore c...    action  \n",
              "53999  Margo is a little mouse that lives quietly in ...    family  \n",
              "\n",
              "[54000 rows x 4 columns]"
            ],
            "text/html": [
              "\n",
              "  <div id=\"df-762fd90d-91f3-4f27-a18b-aff2e68f23c9\" class=\"colab-df-container\">\n",
              "    <div>\n",
              "<style scoped>\n",
              "    .dataframe tbody tr th:only-of-type {\n",
              "        vertical-align: middle;\n",
              "    }\n",
              "\n",
              "    .dataframe tbody tr th {\n",
              "        vertical-align: top;\n",
              "    }\n",
              "\n",
              "    .dataframe thead th {\n",
              "        text-align: right;\n",
              "    }\n",
              "</style>\n",
              "<table border=\"1\" class=\"dataframe\">\n",
              "  <thead>\n",
              "    <tr style=\"text-align: right;\">\n",
              "      <th></th>\n",
              "      <th>id</th>\n",
              "      <th>movie_name</th>\n",
              "      <th>synopsis</th>\n",
              "      <th>genre</th>\n",
              "    </tr>\n",
              "  </thead>\n",
              "  <tbody>\n",
              "    <tr>\n",
              "      <th>0</th>\n",
              "      <td>44978</td>\n",
              "      <td>Super Me</td>\n",
              "      <td>A young scriptwriter starts bringing valuable ...</td>\n",
              "      <td>fantasy</td>\n",
              "    </tr>\n",
              "    <tr>\n",
              "      <th>1</th>\n",
              "      <td>50185</td>\n",
              "      <td>Entity Project</td>\n",
              "      <td>A director and her friends renting a haunted h...</td>\n",
              "      <td>horror</td>\n",
              "    </tr>\n",
              "    <tr>\n",
              "      <th>2</th>\n",
              "      <td>34131</td>\n",
              "      <td>Behavioral Family Therapy for Serious Psychiat...</td>\n",
              "      <td>This is an educational video for families and ...</td>\n",
              "      <td>family</td>\n",
              "    </tr>\n",
              "    <tr>\n",
              "      <th>3</th>\n",
              "      <td>78522</td>\n",
              "      <td>Blood Glacier</td>\n",
              "      <td>Scientists working in the Austrian Alps discov...</td>\n",
              "      <td>scifi</td>\n",
              "    </tr>\n",
              "    <tr>\n",
              "      <th>4</th>\n",
              "      <td>2206</td>\n",
              "      <td>Apat na anino</td>\n",
              "      <td>Buy Day - Four Men Widely - Apart in Life - By...</td>\n",
              "      <td>action</td>\n",
              "    </tr>\n",
              "    <tr>\n",
              "      <th>...</th>\n",
              "      <td>...</td>\n",
              "      <td>...</td>\n",
              "      <td>...</td>\n",
              "      <td>...</td>\n",
              "    </tr>\n",
              "    <tr>\n",
              "      <th>53995</th>\n",
              "      <td>80325</td>\n",
              "      <td>Untitled Monkeyshine/Ugly Brother Project</td>\n",
              "      <td>Two loser pest control buddies find themselves...</td>\n",
              "      <td>scifi</td>\n",
              "    </tr>\n",
              "    <tr>\n",
              "      <th>53996</th>\n",
              "      <td>84712</td>\n",
              "      <td>The Great Swindle</td>\n",
              "      <td>A seductive woman gets involved in relationshi...</td>\n",
              "      <td>thriller</td>\n",
              "    </tr>\n",
              "    <tr>\n",
              "      <th>53997</th>\n",
              "      <td>69801</td>\n",
              "      <td>When Men Get Pregnant</td>\n",
              "      <td>Duyen, a wedding dress staff, who decides to c...</td>\n",
              "      <td>romance</td>\n",
              "    </tr>\n",
              "    <tr>\n",
              "      <th>53998</th>\n",
              "      <td>7678</td>\n",
              "      <td>Suttu Pidikka Utharavu</td>\n",
              "      <td>The people of a crowded colony in Coimbatore c...</td>\n",
              "      <td>action</td>\n",
              "    </tr>\n",
              "    <tr>\n",
              "      <th>53999</th>\n",
              "      <td>33970</td>\n",
              "      <td>Margo the Mouse</td>\n",
              "      <td>Margo is a little mouse that lives quietly in ...</td>\n",
              "      <td>family</td>\n",
              "    </tr>\n",
              "  </tbody>\n",
              "</table>\n",
              "<p>54000 rows × 4 columns</p>\n",
              "</div>\n",
              "    <div class=\"colab-df-buttons\">\n",
              "\n",
              "  <div class=\"colab-df-container\">\n",
              "    <button class=\"colab-df-convert\" onclick=\"convertToInteractive('df-762fd90d-91f3-4f27-a18b-aff2e68f23c9')\"\n",
              "            title=\"Convert this dataframe to an interactive table.\"\n",
              "            style=\"display:none;\">\n",
              "\n",
              "  <svg xmlns=\"http://www.w3.org/2000/svg\" height=\"24px\" viewBox=\"0 -960 960 960\">\n",
              "    <path d=\"M120-120v-720h720v720H120Zm60-500h600v-160H180v160Zm220 220h160v-160H400v160Zm0 220h160v-160H400v160ZM180-400h160v-160H180v160Zm440 0h160v-160H620v160ZM180-180h160v-160H180v160Zm440 0h160v-160H620v160Z\"/>\n",
              "  </svg>\n",
              "    </button>\n",
              "\n",
              "  <style>\n",
              "    .colab-df-container {\n",
              "      display:flex;\n",
              "      gap: 12px;\n",
              "    }\n",
              "\n",
              "    .colab-df-convert {\n",
              "      background-color: #E8F0FE;\n",
              "      border: none;\n",
              "      border-radius: 50%;\n",
              "      cursor: pointer;\n",
              "      display: none;\n",
              "      fill: #1967D2;\n",
              "      height: 32px;\n",
              "      padding: 0 0 0 0;\n",
              "      width: 32px;\n",
              "    }\n",
              "\n",
              "    .colab-df-convert:hover {\n",
              "      background-color: #E2EBFA;\n",
              "      box-shadow: 0px 1px 2px rgba(60, 64, 67, 0.3), 0px 1px 3px 1px rgba(60, 64, 67, 0.15);\n",
              "      fill: #174EA6;\n",
              "    }\n",
              "\n",
              "    .colab-df-buttons div {\n",
              "      margin-bottom: 4px;\n",
              "    }\n",
              "\n",
              "    [theme=dark] .colab-df-convert {\n",
              "      background-color: #3B4455;\n",
              "      fill: #D2E3FC;\n",
              "    }\n",
              "\n",
              "    [theme=dark] .colab-df-convert:hover {\n",
              "      background-color: #434B5C;\n",
              "      box-shadow: 0px 1px 3px 1px rgba(0, 0, 0, 0.15);\n",
              "      filter: drop-shadow(0px 1px 2px rgba(0, 0, 0, 0.3));\n",
              "      fill: #FFFFFF;\n",
              "    }\n",
              "  </style>\n",
              "\n",
              "    <script>\n",
              "      const buttonEl =\n",
              "        document.querySelector('#df-762fd90d-91f3-4f27-a18b-aff2e68f23c9 button.colab-df-convert');\n",
              "      buttonEl.style.display =\n",
              "        google.colab.kernel.accessAllowed ? 'block' : 'none';\n",
              "\n",
              "      async function convertToInteractive(key) {\n",
              "        const element = document.querySelector('#df-762fd90d-91f3-4f27-a18b-aff2e68f23c9');\n",
              "        const dataTable =\n",
              "          await google.colab.kernel.invokeFunction('convertToInteractive',\n",
              "                                                    [key], {});\n",
              "        if (!dataTable) return;\n",
              "\n",
              "        const docLinkHtml = 'Like what you see? Visit the ' +\n",
              "          '<a target=\"_blank\" href=https://colab.research.google.com/notebooks/data_table.ipynb>data table notebook</a>'\n",
              "          + ' to learn more about interactive tables.';\n",
              "        element.innerHTML = '';\n",
              "        dataTable['output_type'] = 'display_data';\n",
              "        await google.colab.output.renderOutput(dataTable, element);\n",
              "        const docLink = document.createElement('div');\n",
              "        docLink.innerHTML = docLinkHtml;\n",
              "        element.appendChild(docLink);\n",
              "      }\n",
              "    </script>\n",
              "  </div>\n",
              "\n",
              "\n",
              "<div id=\"df-45bd28d1-ad54-4ff0-9030-024917afe161\">\n",
              "  <button class=\"colab-df-quickchart\" onclick=\"quickchart('df-45bd28d1-ad54-4ff0-9030-024917afe161')\"\n",
              "            title=\"Suggest charts\"\n",
              "            style=\"display:none;\">\n",
              "\n",
              "<svg xmlns=\"http://www.w3.org/2000/svg\" height=\"24px\"viewBox=\"0 0 24 24\"\n",
              "     width=\"24px\">\n",
              "    <g>\n",
              "        <path d=\"M19 3H5c-1.1 0-2 .9-2 2v14c0 1.1.9 2 2 2h14c1.1 0 2-.9 2-2V5c0-1.1-.9-2-2-2zM9 17H7v-7h2v7zm4 0h-2V7h2v10zm4 0h-2v-4h2v4z\"/>\n",
              "    </g>\n",
              "</svg>\n",
              "  </button>\n",
              "\n",
              "<style>\n",
              "  .colab-df-quickchart {\n",
              "      --bg-color: #E8F0FE;\n",
              "      --fill-color: #1967D2;\n",
              "      --hover-bg-color: #E2EBFA;\n",
              "      --hover-fill-color: #174EA6;\n",
              "      --disabled-fill-color: #AAA;\n",
              "      --disabled-bg-color: #DDD;\n",
              "  }\n",
              "\n",
              "  [theme=dark] .colab-df-quickchart {\n",
              "      --bg-color: #3B4455;\n",
              "      --fill-color: #D2E3FC;\n",
              "      --hover-bg-color: #434B5C;\n",
              "      --hover-fill-color: #FFFFFF;\n",
              "      --disabled-bg-color: #3B4455;\n",
              "      --disabled-fill-color: #666;\n",
              "  }\n",
              "\n",
              "  .colab-df-quickchart {\n",
              "    background-color: var(--bg-color);\n",
              "    border: none;\n",
              "    border-radius: 50%;\n",
              "    cursor: pointer;\n",
              "    display: none;\n",
              "    fill: var(--fill-color);\n",
              "    height: 32px;\n",
              "    padding: 0;\n",
              "    width: 32px;\n",
              "  }\n",
              "\n",
              "  .colab-df-quickchart:hover {\n",
              "    background-color: var(--hover-bg-color);\n",
              "    box-shadow: 0 1px 2px rgba(60, 64, 67, 0.3), 0 1px 3px 1px rgba(60, 64, 67, 0.15);\n",
              "    fill: var(--button-hover-fill-color);\n",
              "  }\n",
              "\n",
              "  .colab-df-quickchart-complete:disabled,\n",
              "  .colab-df-quickchart-complete:disabled:hover {\n",
              "    background-color: var(--disabled-bg-color);\n",
              "    fill: var(--disabled-fill-color);\n",
              "    box-shadow: none;\n",
              "  }\n",
              "\n",
              "  .colab-df-spinner {\n",
              "    border: 2px solid var(--fill-color);\n",
              "    border-color: transparent;\n",
              "    border-bottom-color: var(--fill-color);\n",
              "    animation:\n",
              "      spin 1s steps(1) infinite;\n",
              "  }\n",
              "\n",
              "  @keyframes spin {\n",
              "    0% {\n",
              "      border-color: transparent;\n",
              "      border-bottom-color: var(--fill-color);\n",
              "      border-left-color: var(--fill-color);\n",
              "    }\n",
              "    20% {\n",
              "      border-color: transparent;\n",
              "      border-left-color: var(--fill-color);\n",
              "      border-top-color: var(--fill-color);\n",
              "    }\n",
              "    30% {\n",
              "      border-color: transparent;\n",
              "      border-left-color: var(--fill-color);\n",
              "      border-top-color: var(--fill-color);\n",
              "      border-right-color: var(--fill-color);\n",
              "    }\n",
              "    40% {\n",
              "      border-color: transparent;\n",
              "      border-right-color: var(--fill-color);\n",
              "      border-top-color: var(--fill-color);\n",
              "    }\n",
              "    60% {\n",
              "      border-color: transparent;\n",
              "      border-right-color: var(--fill-color);\n",
              "    }\n",
              "    80% {\n",
              "      border-color: transparent;\n",
              "      border-right-color: var(--fill-color);\n",
              "      border-bottom-color: var(--fill-color);\n",
              "    }\n",
              "    90% {\n",
              "      border-color: transparent;\n",
              "      border-bottom-color: var(--fill-color);\n",
              "    }\n",
              "  }\n",
              "</style>\n",
              "\n",
              "  <script>\n",
              "    async function quickchart(key) {\n",
              "      const quickchartButtonEl =\n",
              "        document.querySelector('#' + key + ' button');\n",
              "      quickchartButtonEl.disabled = true;  // To prevent multiple clicks.\n",
              "      quickchartButtonEl.classList.add('colab-df-spinner');\n",
              "      try {\n",
              "        const charts = await google.colab.kernel.invokeFunction(\n",
              "            'suggestCharts', [key], {});\n",
              "      } catch (error) {\n",
              "        console.error('Error during call to suggestCharts:', error);\n",
              "      }\n",
              "      quickchartButtonEl.classList.remove('colab-df-spinner');\n",
              "      quickchartButtonEl.classList.add('colab-df-quickchart-complete');\n",
              "    }\n",
              "    (() => {\n",
              "      let quickchartButtonEl =\n",
              "        document.querySelector('#df-45bd28d1-ad54-4ff0-9030-024917afe161 button');\n",
              "      quickchartButtonEl.style.display =\n",
              "        google.colab.kernel.accessAllowed ? 'block' : 'none';\n",
              "    })();\n",
              "  </script>\n",
              "</div>\n",
              "\n",
              "  <div id=\"id_0f93f334-3a5a-44d0-ac48-bdc59219b38f\">\n",
              "    <style>\n",
              "      .colab-df-generate {\n",
              "        background-color: #E8F0FE;\n",
              "        border: none;\n",
              "        border-radius: 50%;\n",
              "        cursor: pointer;\n",
              "        display: none;\n",
              "        fill: #1967D2;\n",
              "        height: 32px;\n",
              "        padding: 0 0 0 0;\n",
              "        width: 32px;\n",
              "      }\n",
              "\n",
              "      .colab-df-generate:hover {\n",
              "        background-color: #E2EBFA;\n",
              "        box-shadow: 0px 1px 2px rgba(60, 64, 67, 0.3), 0px 1px 3px 1px rgba(60, 64, 67, 0.15);\n",
              "        fill: #174EA6;\n",
              "      }\n",
              "\n",
              "      [theme=dark] .colab-df-generate {\n",
              "        background-color: #3B4455;\n",
              "        fill: #D2E3FC;\n",
              "      }\n",
              "\n",
              "      [theme=dark] .colab-df-generate:hover {\n",
              "        background-color: #434B5C;\n",
              "        box-shadow: 0px 1px 3px 1px rgba(0, 0, 0, 0.15);\n",
              "        filter: drop-shadow(0px 1px 2px rgba(0, 0, 0, 0.3));\n",
              "        fill: #FFFFFF;\n",
              "      }\n",
              "    </style>\n",
              "    <button class=\"colab-df-generate\" onclick=\"generateWithVariable('train')\"\n",
              "            title=\"Generate code using this dataframe.\"\n",
              "            style=\"display:none;\">\n",
              "\n",
              "  <svg xmlns=\"http://www.w3.org/2000/svg\" height=\"24px\"viewBox=\"0 0 24 24\"\n",
              "       width=\"24px\">\n",
              "    <path d=\"M7,19H8.4L18.45,9,17,7.55,7,17.6ZM5,21V16.75L18.45,3.32a2,2,0,0,1,2.83,0l1.4,1.43a1.91,1.91,0,0,1,.58,1.4,1.91,1.91,0,0,1-.58,1.4L9.25,21ZM18.45,9,17,7.55Zm-12,3A5.31,5.31,0,0,0,4.9,8.1,5.31,5.31,0,0,0,1,6.5,5.31,5.31,0,0,0,4.9,4.9,5.31,5.31,0,0,0,6.5,1,5.31,5.31,0,0,0,8.1,4.9,5.31,5.31,0,0,0,12,6.5,5.46,5.46,0,0,0,6.5,12Z\"/>\n",
              "  </svg>\n",
              "    </button>\n",
              "    <script>\n",
              "      (() => {\n",
              "      const buttonEl =\n",
              "        document.querySelector('#id_0f93f334-3a5a-44d0-ac48-bdc59219b38f button.colab-df-generate');\n",
              "      buttonEl.style.display =\n",
              "        google.colab.kernel.accessAllowed ? 'block' : 'none';\n",
              "\n",
              "      buttonEl.onclick = () => {\n",
              "        google.colab.notebook.generateWithVariable('train');\n",
              "      }\n",
              "      })();\n",
              "    </script>\n",
              "  </div>\n",
              "\n",
              "    </div>\n",
              "  </div>\n"
            ],
            "application/vnd.google.colaboratory.intrinsic+json": {
              "type": "dataframe",
              "variable_name": "train",
              "summary": "{\n  \"name\": \"train\",\n  \"rows\": 54000,\n  \"fields\": [\n    {\n      \"column\": \"id\",\n      \"properties\": {\n        \"dtype\": \"number\",\n        \"std\": 25980,\n        \"min\": 0,\n        \"max\": 89999,\n        \"num_unique_values\": 54000,\n        \"samples\": [\n          45858,\n          74128,\n          53673\n        ],\n        \"semantic_type\": \"\",\n        \"description\": \"\"\n      }\n    },\n    {\n      \"column\": \"movie_name\",\n      \"properties\": {\n        \"dtype\": \"string\",\n        \"num_unique_values\": 43687,\n        \"samples\": [\n          \"Bubble\",\n          \"Apex\",\n          \"Shark Tale\"\n        ],\n        \"semantic_type\": \"\",\n        \"description\": \"\"\n      }\n    },\n    {\n      \"column\": \"synopsis\",\n      \"properties\": {\n        \"dtype\": \"string\",\n        \"num_unique_values\": 46046,\n        \"samples\": [\n          \"A cruel businessman attacks a tribal village for a stone which the people treat as something special. A guy who thinks he is somehow related to the stone comes to their aid.\",\n          \"When a tour guide breaks into America's Most Haunted House, a bit of amateur ghost hunting with friends turns into more than they could have ever imagined.\",\n          \"An Englishman with a grudge against an insurance company for a disallowed claim fakes his own death, but is soon pursued by an insurance investigator.\"\n        ],\n        \"semantic_type\": \"\",\n        \"description\": \"\"\n      }\n    },\n    {\n      \"column\": \"genre\",\n      \"properties\": {\n        \"dtype\": \"category\",\n        \"num_unique_values\": 10,\n        \"samples\": [\n          \"romance\",\n          \"horror\",\n          \"crime\"\n        ],\n        \"semantic_type\": \"\",\n        \"description\": \"\"\n      }\n    }\n  ]\n}"
            }
          },
          "metadata": {},
          "execution_count": 5
        }
      ]
    },
    {
      "cell_type": "code",
      "source": [
        "train.shape"
      ],
      "metadata": {
        "colab": {
          "base_uri": "https://localhost:8080/"
        },
        "id": "mYXTiMnlUsnz",
        "outputId": "9a038880-cc5f-46e7-b351-de062704b29b"
      },
      "execution_count": 12,
      "outputs": [
        {
          "output_type": "execute_result",
          "data": {
            "text/plain": [
              "(54000, 4)"
            ]
          },
          "metadata": {},
          "execution_count": 12
        }
      ]
    },
    {
      "cell_type": "code",
      "source": [
        "train.describe()"
      ],
      "metadata": {
        "colab": {
          "base_uri": "https://localhost:8080/",
          "height": 300
        },
        "id": "Yb5AeuvkT76L",
        "outputId": "38e3c20b-5b50-4af4-b6a0-d1ded89b206d"
      },
      "execution_count": 6,
      "outputs": [
        {
          "output_type": "execute_result",
          "data": {
            "text/plain": [
              "                 id\n",
              "count  54000.000000\n",
              "mean   44994.882352\n",
              "std    25980.135904\n",
              "min        0.000000\n",
              "25%    22569.750000\n",
              "50%    45000.000000\n",
              "75%    67466.250000\n",
              "max    89999.000000"
            ],
            "text/html": [
              "\n",
              "  <div id=\"df-61c2c2da-0b30-40a9-978b-a74dd5e2a017\" class=\"colab-df-container\">\n",
              "    <div>\n",
              "<style scoped>\n",
              "    .dataframe tbody tr th:only-of-type {\n",
              "        vertical-align: middle;\n",
              "    }\n",
              "\n",
              "    .dataframe tbody tr th {\n",
              "        vertical-align: top;\n",
              "    }\n",
              "\n",
              "    .dataframe thead th {\n",
              "        text-align: right;\n",
              "    }\n",
              "</style>\n",
              "<table border=\"1\" class=\"dataframe\">\n",
              "  <thead>\n",
              "    <tr style=\"text-align: right;\">\n",
              "      <th></th>\n",
              "      <th>id</th>\n",
              "    </tr>\n",
              "  </thead>\n",
              "  <tbody>\n",
              "    <tr>\n",
              "      <th>count</th>\n",
              "      <td>54000.000000</td>\n",
              "    </tr>\n",
              "    <tr>\n",
              "      <th>mean</th>\n",
              "      <td>44994.882352</td>\n",
              "    </tr>\n",
              "    <tr>\n",
              "      <th>std</th>\n",
              "      <td>25980.135904</td>\n",
              "    </tr>\n",
              "    <tr>\n",
              "      <th>min</th>\n",
              "      <td>0.000000</td>\n",
              "    </tr>\n",
              "    <tr>\n",
              "      <th>25%</th>\n",
              "      <td>22569.750000</td>\n",
              "    </tr>\n",
              "    <tr>\n",
              "      <th>50%</th>\n",
              "      <td>45000.000000</td>\n",
              "    </tr>\n",
              "    <tr>\n",
              "      <th>75%</th>\n",
              "      <td>67466.250000</td>\n",
              "    </tr>\n",
              "    <tr>\n",
              "      <th>max</th>\n",
              "      <td>89999.000000</td>\n",
              "    </tr>\n",
              "  </tbody>\n",
              "</table>\n",
              "</div>\n",
              "    <div class=\"colab-df-buttons\">\n",
              "\n",
              "  <div class=\"colab-df-container\">\n",
              "    <button class=\"colab-df-convert\" onclick=\"convertToInteractive('df-61c2c2da-0b30-40a9-978b-a74dd5e2a017')\"\n",
              "            title=\"Convert this dataframe to an interactive table.\"\n",
              "            style=\"display:none;\">\n",
              "\n",
              "  <svg xmlns=\"http://www.w3.org/2000/svg\" height=\"24px\" viewBox=\"0 -960 960 960\">\n",
              "    <path d=\"M120-120v-720h720v720H120Zm60-500h600v-160H180v160Zm220 220h160v-160H400v160Zm0 220h160v-160H400v160ZM180-400h160v-160H180v160Zm440 0h160v-160H620v160ZM180-180h160v-160H180v160Zm440 0h160v-160H620v160Z\"/>\n",
              "  </svg>\n",
              "    </button>\n",
              "\n",
              "  <style>\n",
              "    .colab-df-container {\n",
              "      display:flex;\n",
              "      gap: 12px;\n",
              "    }\n",
              "\n",
              "    .colab-df-convert {\n",
              "      background-color: #E8F0FE;\n",
              "      border: none;\n",
              "      border-radius: 50%;\n",
              "      cursor: pointer;\n",
              "      display: none;\n",
              "      fill: #1967D2;\n",
              "      height: 32px;\n",
              "      padding: 0 0 0 0;\n",
              "      width: 32px;\n",
              "    }\n",
              "\n",
              "    .colab-df-convert:hover {\n",
              "      background-color: #E2EBFA;\n",
              "      box-shadow: 0px 1px 2px rgba(60, 64, 67, 0.3), 0px 1px 3px 1px rgba(60, 64, 67, 0.15);\n",
              "      fill: #174EA6;\n",
              "    }\n",
              "\n",
              "    .colab-df-buttons div {\n",
              "      margin-bottom: 4px;\n",
              "    }\n",
              "\n",
              "    [theme=dark] .colab-df-convert {\n",
              "      background-color: #3B4455;\n",
              "      fill: #D2E3FC;\n",
              "    }\n",
              "\n",
              "    [theme=dark] .colab-df-convert:hover {\n",
              "      background-color: #434B5C;\n",
              "      box-shadow: 0px 1px 3px 1px rgba(0, 0, 0, 0.15);\n",
              "      filter: drop-shadow(0px 1px 2px rgba(0, 0, 0, 0.3));\n",
              "      fill: #FFFFFF;\n",
              "    }\n",
              "  </style>\n",
              "\n",
              "    <script>\n",
              "      const buttonEl =\n",
              "        document.querySelector('#df-61c2c2da-0b30-40a9-978b-a74dd5e2a017 button.colab-df-convert');\n",
              "      buttonEl.style.display =\n",
              "        google.colab.kernel.accessAllowed ? 'block' : 'none';\n",
              "\n",
              "      async function convertToInteractive(key) {\n",
              "        const element = document.querySelector('#df-61c2c2da-0b30-40a9-978b-a74dd5e2a017');\n",
              "        const dataTable =\n",
              "          await google.colab.kernel.invokeFunction('convertToInteractive',\n",
              "                                                    [key], {});\n",
              "        if (!dataTable) return;\n",
              "\n",
              "        const docLinkHtml = 'Like what you see? Visit the ' +\n",
              "          '<a target=\"_blank\" href=https://colab.research.google.com/notebooks/data_table.ipynb>data table notebook</a>'\n",
              "          + ' to learn more about interactive tables.';\n",
              "        element.innerHTML = '';\n",
              "        dataTable['output_type'] = 'display_data';\n",
              "        await google.colab.output.renderOutput(dataTable, element);\n",
              "        const docLink = document.createElement('div');\n",
              "        docLink.innerHTML = docLinkHtml;\n",
              "        element.appendChild(docLink);\n",
              "      }\n",
              "    </script>\n",
              "  </div>\n",
              "\n",
              "\n",
              "<div id=\"df-ce5968cb-239d-4e7d-a819-3e1399490193\">\n",
              "  <button class=\"colab-df-quickchart\" onclick=\"quickchart('df-ce5968cb-239d-4e7d-a819-3e1399490193')\"\n",
              "            title=\"Suggest charts\"\n",
              "            style=\"display:none;\">\n",
              "\n",
              "<svg xmlns=\"http://www.w3.org/2000/svg\" height=\"24px\"viewBox=\"0 0 24 24\"\n",
              "     width=\"24px\">\n",
              "    <g>\n",
              "        <path d=\"M19 3H5c-1.1 0-2 .9-2 2v14c0 1.1.9 2 2 2h14c1.1 0 2-.9 2-2V5c0-1.1-.9-2-2-2zM9 17H7v-7h2v7zm4 0h-2V7h2v10zm4 0h-2v-4h2v4z\"/>\n",
              "    </g>\n",
              "</svg>\n",
              "  </button>\n",
              "\n",
              "<style>\n",
              "  .colab-df-quickchart {\n",
              "      --bg-color: #E8F0FE;\n",
              "      --fill-color: #1967D2;\n",
              "      --hover-bg-color: #E2EBFA;\n",
              "      --hover-fill-color: #174EA6;\n",
              "      --disabled-fill-color: #AAA;\n",
              "      --disabled-bg-color: #DDD;\n",
              "  }\n",
              "\n",
              "  [theme=dark] .colab-df-quickchart {\n",
              "      --bg-color: #3B4455;\n",
              "      --fill-color: #D2E3FC;\n",
              "      --hover-bg-color: #434B5C;\n",
              "      --hover-fill-color: #FFFFFF;\n",
              "      --disabled-bg-color: #3B4455;\n",
              "      --disabled-fill-color: #666;\n",
              "  }\n",
              "\n",
              "  .colab-df-quickchart {\n",
              "    background-color: var(--bg-color);\n",
              "    border: none;\n",
              "    border-radius: 50%;\n",
              "    cursor: pointer;\n",
              "    display: none;\n",
              "    fill: var(--fill-color);\n",
              "    height: 32px;\n",
              "    padding: 0;\n",
              "    width: 32px;\n",
              "  }\n",
              "\n",
              "  .colab-df-quickchart:hover {\n",
              "    background-color: var(--hover-bg-color);\n",
              "    box-shadow: 0 1px 2px rgba(60, 64, 67, 0.3), 0 1px 3px 1px rgba(60, 64, 67, 0.15);\n",
              "    fill: var(--button-hover-fill-color);\n",
              "  }\n",
              "\n",
              "  .colab-df-quickchart-complete:disabled,\n",
              "  .colab-df-quickchart-complete:disabled:hover {\n",
              "    background-color: var(--disabled-bg-color);\n",
              "    fill: var(--disabled-fill-color);\n",
              "    box-shadow: none;\n",
              "  }\n",
              "\n",
              "  .colab-df-spinner {\n",
              "    border: 2px solid var(--fill-color);\n",
              "    border-color: transparent;\n",
              "    border-bottom-color: var(--fill-color);\n",
              "    animation:\n",
              "      spin 1s steps(1) infinite;\n",
              "  }\n",
              "\n",
              "  @keyframes spin {\n",
              "    0% {\n",
              "      border-color: transparent;\n",
              "      border-bottom-color: var(--fill-color);\n",
              "      border-left-color: var(--fill-color);\n",
              "    }\n",
              "    20% {\n",
              "      border-color: transparent;\n",
              "      border-left-color: var(--fill-color);\n",
              "      border-top-color: var(--fill-color);\n",
              "    }\n",
              "    30% {\n",
              "      border-color: transparent;\n",
              "      border-left-color: var(--fill-color);\n",
              "      border-top-color: var(--fill-color);\n",
              "      border-right-color: var(--fill-color);\n",
              "    }\n",
              "    40% {\n",
              "      border-color: transparent;\n",
              "      border-right-color: var(--fill-color);\n",
              "      border-top-color: var(--fill-color);\n",
              "    }\n",
              "    60% {\n",
              "      border-color: transparent;\n",
              "      border-right-color: var(--fill-color);\n",
              "    }\n",
              "    80% {\n",
              "      border-color: transparent;\n",
              "      border-right-color: var(--fill-color);\n",
              "      border-bottom-color: var(--fill-color);\n",
              "    }\n",
              "    90% {\n",
              "      border-color: transparent;\n",
              "      border-bottom-color: var(--fill-color);\n",
              "    }\n",
              "  }\n",
              "</style>\n",
              "\n",
              "  <script>\n",
              "    async function quickchart(key) {\n",
              "      const quickchartButtonEl =\n",
              "        document.querySelector('#' + key + ' button');\n",
              "      quickchartButtonEl.disabled = true;  // To prevent multiple clicks.\n",
              "      quickchartButtonEl.classList.add('colab-df-spinner');\n",
              "      try {\n",
              "        const charts = await google.colab.kernel.invokeFunction(\n",
              "            'suggestCharts', [key], {});\n",
              "      } catch (error) {\n",
              "        console.error('Error during call to suggestCharts:', error);\n",
              "      }\n",
              "      quickchartButtonEl.classList.remove('colab-df-spinner');\n",
              "      quickchartButtonEl.classList.add('colab-df-quickchart-complete');\n",
              "    }\n",
              "    (() => {\n",
              "      let quickchartButtonEl =\n",
              "        document.querySelector('#df-ce5968cb-239d-4e7d-a819-3e1399490193 button');\n",
              "      quickchartButtonEl.style.display =\n",
              "        google.colab.kernel.accessAllowed ? 'block' : 'none';\n",
              "    })();\n",
              "  </script>\n",
              "</div>\n",
              "\n",
              "    </div>\n",
              "  </div>\n"
            ],
            "application/vnd.google.colaboratory.intrinsic+json": {
              "type": "dataframe",
              "summary": "{\n  \"name\": \"train\",\n  \"rows\": 8,\n  \"fields\": [\n    {\n      \"column\": \"id\",\n      \"properties\": {\n        \"dtype\": \"number\",\n        \"std\": 28000.098965737412,\n        \"min\": 0.0,\n        \"max\": 89999.0,\n        \"num_unique_values\": 8,\n        \"samples\": [\n          44994.882351851855,\n          45000.0,\n          54000.0\n        ],\n        \"semantic_type\": \"\",\n        \"description\": \"\"\n      }\n    }\n  ]\n}"
            }
          },
          "metadata": {},
          "execution_count": 6
        }
      ]
    },
    {
      "cell_type": "code",
      "source": [
        "train.info()"
      ],
      "metadata": {
        "colab": {
          "base_uri": "https://localhost:8080/"
        },
        "id": "o3bnehfOUJnX",
        "outputId": "bc178433-2beb-42a6-d3af-77315738db80"
      },
      "execution_count": 7,
      "outputs": [
        {
          "output_type": "stream",
          "name": "stdout",
          "text": [
            "<class 'pandas.core.frame.DataFrame'>\n",
            "RangeIndex: 54000 entries, 0 to 53999\n",
            "Data columns (total 4 columns):\n",
            " #   Column      Non-Null Count  Dtype \n",
            "---  ------      --------------  ----- \n",
            " 0   id          54000 non-null  int64 \n",
            " 1   movie_name  54000 non-null  object\n",
            " 2   synopsis    54000 non-null  object\n",
            " 3   genre       54000 non-null  object\n",
            "dtypes: int64(1), object(3)\n",
            "memory usage: 1.6+ MB\n"
          ]
        }
      ]
    },
    {
      "cell_type": "code",
      "source": [
        "train.isnull().sum()"
      ],
      "metadata": {
        "colab": {
          "base_uri": "https://localhost:8080/"
        },
        "id": "2_cdnyGlUP34",
        "outputId": "72ce9e68-4281-4ae6-cf19-2a0c2c0aef39"
      },
      "execution_count": 8,
      "outputs": [
        {
          "output_type": "execute_result",
          "data": {
            "text/plain": [
              "id            0\n",
              "movie_name    0\n",
              "synopsis      0\n",
              "genre         0\n",
              "dtype: int64"
            ]
          },
          "metadata": {},
          "execution_count": 8
        }
      ]
    },
    {
      "cell_type": "code",
      "source": [
        "train['genre'].value_counts()"
      ],
      "metadata": {
        "colab": {
          "base_uri": "https://localhost:8080/"
        },
        "id": "si5eV_7BUWjA",
        "outputId": "a50b1407-0867-4e1d-f648-04d632f2f090"
      },
      "execution_count": 9,
      "outputs": [
        {
          "output_type": "execute_result",
          "data": {
            "text/plain": [
              "genre\n",
              "fantasy      5400\n",
              "horror       5400\n",
              "family       5400\n",
              "scifi        5400\n",
              "action       5400\n",
              "crime        5400\n",
              "adventure    5400\n",
              "mystery      5400\n",
              "romance      5400\n",
              "thriller     5400\n",
              "Name: count, dtype: int64"
            ]
          },
          "metadata": {},
          "execution_count": 9
        }
      ]
    },
    {
      "cell_type": "code",
      "source": [
        "plt.style.use('seaborn')\n",
        "train['genre'].value_counts().plot(kind = 'bar')\n",
        "plt.show()"
      ],
      "metadata": {
        "colab": {
          "base_uri": "https://localhost:8080/",
          "height": 606
        },
        "id": "BbexxrHvUeKq",
        "outputId": "ca1614ff-5b20-4cf6-be80-66ad7f98cf9a"
      },
      "execution_count": 10,
      "outputs": [
        {
          "output_type": "stream",
          "name": "stderr",
          "text": [
            "<ipython-input-10-c77723e6f487>:1: MatplotlibDeprecationWarning: The seaborn styles shipped by Matplotlib are deprecated since 3.6, as they no longer correspond to the styles shipped by seaborn. However, they will remain available as 'seaborn-v0_8-<style>'. Alternatively, directly use the seaborn API instead.\n",
            "  plt.style.use('seaborn')\n"
          ]
        },
        {
          "output_type": "display_data",
          "data": {
            "text/plain": [
              "<Figure size 800x550 with 1 Axes>"
            ],
            "image/png": "[encoded data removed]"
          },
          "metadata": {}
        }
      ]
    },
    {
      "cell_type": "code",
      "source": [
        "# Here we have 'train' as your DataFrame and the target column as 'genre'\n",
        "X = train.drop(columns=['genre'])  # Features\n",
        "y = train['genre']  # Target variable\n",
        "\n",
        "# Split the data: 80% for training and 20% for testing\n",
        "X_train, X_test, y_train, y_test = train_test_split(X, y, test_size=0.2, random_state=42)\n",
        "\n",
        "# Verify the shapes\n",
        "print(X_train.shape, X_test.shape)\n",
        "print(y_train.shape, y_test.shape)"
      ],
      "metadata": {
        "colab": {
          "base_uri": "https://localhost:8080/"
        },
        "id": "RdsR7sA_Uj8l",
        "outputId": "34f634e2-96ac-4a9b-a77f-6868cb14b5bc"
      },
      "execution_count": 13,
      "outputs": [
        {
          "output_type": "stream",
          "name": "stdout",
          "text": [
            "(43200, 3) (10800, 3)\n",
            "(43200,) (10800,)\n"
          ]
        }
      ]
    },
    {
      "cell_type": "code",
      "source": [
        "# Function to clean the text\n",
        "def clean_text(text):\n",
        "    text = re.sub(\"\\'\", \"\", text)  # Remove single quotes\n",
        "    text = re.sub(\"[^a-zA-Z]\", \" \", text)  # Remove non-alphabetic characters\n",
        "    text = ' '.join(text.split())  # Remove extra spaces\n",
        "    text = text.lower()  # Convert to lowercase\n",
        "    return text"
      ],
      "metadata": {
        "id": "OGLPC9ZQbIUz"
      },
      "execution_count": 26,
      "outputs": []
    },
    {
      "cell_type": "code",
      "source": [
        "# Apply the clean_text function to the 'synopsis' column in both training and test sets\n",
        "X_train['clean_plot'] = X_train['synopsis'].apply(lambda x: clean_text(x))\n",
        "X_test['clean_plot'] = X_test['synopsis'].apply(lambda x: clean_text(x))\n",
        "\n",
        "# Display the first few rows to verify\n",
        "print(X_train[['synopsis', 'clean_plot']].head())\n",
        "print(X_test[['synopsis', 'clean_plot']].head())"
      ],
      "metadata": {
        "colab": {
          "base_uri": "https://localhost:8080/"
        },
        "id": "qL3tMoj8bNyC",
        "outputId": "45574559-3b3c-40bc-ba8d-14b75a56b764"
      },
      "execution_count": 27,
      "outputs": [
        {
          "output_type": "stream",
          "name": "stdout",
          "text": [
            "                                                synopsis  \\\n",
            "5688   Michael and Franziska's relationship suffers f...   \n",
            "40513  An out of work husband takes his wife's advice...   \n",
            "17163  A mother and her young son move to a new town ...   \n",
            "39180  A tug-of-war between Elmo and his friend sends...   \n",
            "7905   A female warrior who was raised as a man joins...   \n",
            "\n",
            "                                              clean_plot  \n",
            "5688   michael and franziskas relationship suffers fr...  \n",
            "40513  an out of work husband takes his wifes advice ...  \n",
            "17163  a mother and her young son move to a new town ...  \n",
            "39180  a tug of war between elmo and his friend sends...  \n",
            "7905   a female warrior who was raised as a man joins...  \n",
            "                                                synopsis  \\\n",
            "30246  A socialite must protect her child from the gh...   \n",
            "34164  When a space shuttle crashes to earth the daug...   \n",
            "40692  The legend of Yamashita's Gold lures a treasur...   \n",
            "28724  A new take on the classic story of a group of ...   \n",
            "28097  An eccentric writer must choose between his wo...   \n",
            "\n",
            "                                              clean_plot  \n",
            "30246  a socialite must protect her child from the gh...  \n",
            "34164  when a space shuttle crashes to earth the daug...  \n",
            "40692  the legend of yamashitas gold lures a treasure...  \n",
            "28724  a new take on the classic story of a group of ...  \n",
            "28097  an eccentric writer must choose between his wo...  \n"
          ]
        }
      ]
    },
    {
      "cell_type": "code",
      "source": [
        "print(X_train.shape, X_test.shape)\n",
        "print(y_train.shape, y_test.shape)"
      ],
      "metadata": {
        "colab": {
          "base_uri": "https://localhost:8080/"
        },
        "id": "2LfXpbVpbWst",
        "outputId": "b51d1ce1-fcbb-499d-a7a6-55cf65961ec2"
      },
      "execution_count": 28,
      "outputs": [
        {
          "output_type": "stream",
          "name": "stdout",
          "text": [
            "(43200, 4) (10800, 4)\n",
            "(43200,) (10800,)\n"
          ]
        }
      ]
    },
    {
      "cell_type": "code",
      "source": [
        "X_train"
      ],
      "metadata": {
        "colab": {
          "base_uri": "https://localhost:8080/",
          "height": 423
        },
        "id": "JqidnlBhbhgr",
        "outputId": "7a51d9a2-3d9f-477d-ad3d-49983e840c1b"
      },
      "execution_count": 29,
      "outputs": [
        {
          "output_type": "execute_result",
          "data": {
            "text/plain": [
              "          id                            movie_name  \\\n",
              "5688   71678            Auf Wiedersehn, Franziska!   \n",
              "40513   6510                            Now Hiring   \n",
              "17163  45628                              H.A.R.M.   \n",
              "39180  30542  The Adventures of Elmo in Grouchland   \n",
              "7905   49308                                Dororo   \n",
              "...      ...                                   ...   \n",
              "11284  60949                     Carnival of Crime   \n",
              "44732  41418                           Never After   \n",
              "38158  66203                                Phagun   \n",
              "860    22589                                 Sonny   \n",
              "15795  25231                               Equator   \n",
              "\n",
              "                                                synopsis  \\\n",
              "5688   Michael and Franziska's relationship suffers f...   \n",
              "40513  An out of work husband takes his wife's advice...   \n",
              "17163  A mother and her young son move to a new town ...   \n",
              "39180  A tug-of-war between Elmo and his friend sends...   \n",
              "7905   A female warrior who was raised as a man joins...   \n",
              "...                                                  ...   \n",
              "11284  A four-alarm murder mystery, this nerve-tingli...   \n",
              "44732  Years after the storybooks have closed, our be...   \n",
              "38158  Banani is the daughter of a rich man, brought ...   \n",
              "860    An honorably discharged soldier returns home t...   \n",
              "15795  Novel-based crime drama about naive Timar, who...   \n",
              "\n",
              "                                              clean_plot  \n",
              "5688   michael and franziskas relationship suffers fr...  \n",
              "40513  an out of work husband takes his wifes advice ...  \n",
              "17163  a mother and her young son move to a new town ...  \n",
              "39180  a tug of war between elmo and his friend sends...  \n",
              "7905   a female warrior who was raised as a man joins...  \n",
              "...                                                  ...  \n",
              "11284  a four alarm murder mystery this nerve tinglin...  \n",
              "44732  years after the storybooks have closed our bel...  \n",
              "38158  banani is the daughter of a rich man brought u...  \n",
              "860    an honorably discharged soldier returns home t...  \n",
              "15795  novel based crime drama about naive timar who ...  \n",
              "\n",
              "[43200 rows x 4 columns]"
            ],
            "text/html": [
              "\n",
              "  <div id=\"df-02e53bf0-4211-46e6-8fdb-d1fc1779d6b8\" class=\"colab-df-container\">\n",
              "    <div>\n",
              "<style scoped>\n",
              "    .dataframe tbody tr th:only-of-type {\n",
              "        vertical-align: middle;\n",
              "    }\n",
              "\n",
              "    .dataframe tbody tr th {\n",
              "        vertical-align: top;\n",
              "    }\n",
              "\n",
              "    .dataframe thead th {\n",
              "        text-align: right;\n",
              "    }\n",
              "</style>\n",
              "<table border=\"1\" class=\"dataframe\">\n",
              "  <thead>\n",
              "    <tr style=\"text-align: right;\">\n",
              "      <th></th>\n",
              "      <th>id</th>\n",
              "      <th>movie_name</th>\n",
              "      <th>synopsis</th>\n",
              "      <th>clean_plot</th>\n",
              "    </tr>\n",
              "  </thead>\n",
              "  <tbody>\n",
              "    <tr>\n",
              "      <th>5688</th>\n",
              "      <td>71678</td>\n",
              "      <td>Auf Wiedersehn, Franziska!</td>\n",
              "      <td>Michael and Franziska's relationship suffers f...</td>\n",
              "      <td>michael and franziskas relationship suffers fr...</td>\n",
              "    </tr>\n",
              "    <tr>\n",
              "      <th>40513</th>\n",
              "      <td>6510</td>\n",
              "      <td>Now Hiring</td>\n",
              "      <td>An out of work husband takes his wife's advice...</td>\n",
              "      <td>an out of work husband takes his wifes advice ...</td>\n",
              "    </tr>\n",
              "    <tr>\n",
              "      <th>17163</th>\n",
              "      <td>45628</td>\n",
              "      <td>H.A.R.M.</td>\n",
              "      <td>A mother and her young son move to a new town ...</td>\n",
              "      <td>a mother and her young son move to a new town ...</td>\n",
              "    </tr>\n",
              "    <tr>\n",
              "      <th>39180</th>\n",
              "      <td>30542</td>\n",
              "      <td>The Adventures of Elmo in Grouchland</td>\n",
              "      <td>A tug-of-war between Elmo and his friend sends...</td>\n",
              "      <td>a tug of war between elmo and his friend sends...</td>\n",
              "    </tr>\n",
              "    <tr>\n",
              "      <th>7905</th>\n",
              "      <td>49308</td>\n",
              "      <td>Dororo</td>\n",
              "      <td>A female warrior who was raised as a man joins...</td>\n",
              "      <td>a female warrior who was raised as a man joins...</td>\n",
              "    </tr>\n",
              "    <tr>\n",
              "      <th>...</th>\n",
              "      <td>...</td>\n",
              "      <td>...</td>\n",
              "      <td>...</td>\n",
              "      <td>...</td>\n",
              "    </tr>\n",
              "    <tr>\n",
              "      <th>11284</th>\n",
              "      <td>60949</td>\n",
              "      <td>Carnival of Crime</td>\n",
              "      <td>A four-alarm murder mystery, this nerve-tingli...</td>\n",
              "      <td>a four alarm murder mystery this nerve tinglin...</td>\n",
              "    </tr>\n",
              "    <tr>\n",
              "      <th>44732</th>\n",
              "      <td>41418</td>\n",
              "      <td>Never After</td>\n",
              "      <td>Years after the storybooks have closed, our be...</td>\n",
              "      <td>years after the storybooks have closed our bel...</td>\n",
              "    </tr>\n",
              "    <tr>\n",
              "      <th>38158</th>\n",
              "      <td>66203</td>\n",
              "      <td>Phagun</td>\n",
              "      <td>Banani is the daughter of a rich man, brought ...</td>\n",
              "      <td>banani is the daughter of a rich man brought u...</td>\n",
              "    </tr>\n",
              "    <tr>\n",
              "      <th>860</th>\n",
              "      <td>22589</td>\n",
              "      <td>Sonny</td>\n",
              "      <td>An honorably discharged soldier returns home t...</td>\n",
              "      <td>an honorably discharged soldier returns home t...</td>\n",
              "    </tr>\n",
              "    <tr>\n",
              "      <th>15795</th>\n",
              "      <td>25231</td>\n",
              "      <td>Equator</td>\n",
              "      <td>Novel-based crime drama about naive Timar, who...</td>\n",
              "      <td>novel based crime drama about naive timar who ...</td>\n",
              "    </tr>\n",
              "  </tbody>\n",
              "</table>\n",
              "<p>43200 rows × 4 columns</p>\n",
              "</div>\n",
              "    <div class=\"colab-df-buttons\">\n",
              "\n",
              "  <div class=\"colab-df-container\">\n",
              "    <button class=\"colab-df-convert\" onclick=\"convertToInteractive('df-02e53bf0-4211-46e6-8fdb-d1fc1779d6b8')\"\n",
              "            title=\"Convert this dataframe to an interactive table.\"\n",
              "            style=\"display:none;\">\n",
              "\n",
              "  <svg xmlns=\"http://www.w3.org/2000/svg\" height=\"24px\" viewBox=\"0 -960 960 960\">\n",
              "    <path d=\"M120-120v-720h720v720H120Zm60-500h600v-160H180v160Zm220 220h160v-160H400v160Zm0 220h160v-160H400v160ZM180-400h160v-160H180v160Zm440 0h160v-160H620v160ZM180-180h160v-160H180v160Zm440 0h160v-160H620v160Z\"/>\n",
              "  </svg>\n",
              "    </button>\n",
              "\n",
              "  <style>\n",
              "    .colab-df-container {\n",
              "      display:flex;\n",
              "      gap: 12px;\n",
              "    }\n",
              "\n",
              "    .colab-df-convert {\n",
              "      background-color: #E8F0FE;\n",
              "      border: none;\n",
              "      border-radius: 50%;\n",
              "      cursor: pointer;\n",
              "      display: none;\n",
              "      fill: #1967D2;\n",
              "      height: 32px;\n",
              "      padding: 0 0 0 0;\n",
              "      width: 32px;\n",
              "    }\n",
              "\n",
              "    .colab-df-convert:hover {\n",
              "      background-color: #E2EBFA;\n",
              "      box-shadow: 0px 1px 2px rgba(60, 64, 67, 0.3), 0px 1px 3px 1px rgba(60, 64, 67, 0.15);\n",
              "      fill: #174EA6;\n",
              "    }\n",
              "\n",
              "    .colab-df-buttons div {\n",
              "      margin-bottom: 4px;\n",
              "    }\n",
              "\n",
              "    [theme=dark] .colab-df-convert {\n",
              "      background-color: #3B4455;\n",
              "      fill: #D2E3FC;\n",
              "    }\n",
              "\n",
              "    [theme=dark] .colab-df-convert:hover {\n",
              "      background-color: #434B5C;\n",
              "      box-shadow: 0px 1px 3px 1px rgba(0, 0, 0, 0.15);\n",
              "      filter: drop-shadow(0px 1px 2px rgba(0, 0, 0, 0.3));\n",
              "      fill: #FFFFFF;\n",
              "    }\n",
              "  </style>\n",
              "\n",
              "    <script>\n",
              "      const buttonEl =\n",
              "        document.querySelector('#df-02e53bf0-4211-46e6-8fdb-d1fc1779d6b8 button.colab-df-convert');\n",
              "      buttonEl.style.display =\n",
              "        google.colab.kernel.accessAllowed ? 'block' : 'none';\n",
              "\n",
              "      async function convertToInteractive(key) {\n",
              "        const element = document.querySelector('#df-02e53bf0-4211-46e6-8fdb-d1fc1779d6b8');\n",
              "        const dataTable =\n",
              "          await google.colab.kernel.invokeFunction('convertToInteractive',\n",
              "                                                    [key], {});\n",
              "        if (!dataTable) return;\n",
              "\n",
              "        const docLinkHtml = 'Like what you see? Visit the ' +\n",
              "          '<a target=\"_blank\" href=https://colab.research.google.com/notebooks/data_table.ipynb>data table notebook</a>'\n",
              "          + ' to learn more about interactive tables.';\n",
              "        element.innerHTML = '';\n",
              "        dataTable['output_type'] = 'display_data';\n",
              "        await google.colab.output.renderOutput(dataTable, element);\n",
              "        const docLink = document.createElement('div');\n",
              "        docLink.innerHTML = docLinkHtml;\n",
              "        element.appendChild(docLink);\n",
              "      }\n",
              "    </script>\n",
              "  </div>\n",
              "\n",
              "\n",
              "<div id=\"df-e5e190f6-a69a-442c-bb78-a8fafa17271e\">\n",
              "  <button class=\"colab-df-quickchart\" onclick=\"quickchart('df-e5e190f6-a69a-442c-bb78-a8fafa17271e')\"\n",
              "            title=\"Suggest charts\"\n",
              "            style=\"display:none;\">\n",
              "\n",
              "<svg xmlns=\"http://www.w3.org/2000/svg\" height=\"24px\"viewBox=\"0 0 24 24\"\n",
              "     width=\"24px\">\n",
              "    <g>\n",
              "        <path d=\"M19 3H5c-1.1 0-2 .9-2 2v14c0 1.1.9 2 2 2h14c1.1 0 2-.9 2-2V5c0-1.1-.9-2-2-2zM9 17H7v-7h2v7zm4 0h-2V7h2v10zm4 0h-2v-4h2v4z\"/>\n",
              "    </g>\n",
              "</svg>\n",
              "  </button>\n",
              "\n",
              "<style>\n",
              "  .colab-df-quickchart {\n",
              "      --bg-color: #E8F0FE;\n",
              "      --fill-color: #1967D2;\n",
              "      --hover-bg-color: #E2EBFA;\n",
              "      --hover-fill-color: #174EA6;\n",
              "      --disabled-fill-color: #AAA;\n",
              "      --disabled-bg-color: #DDD;\n",
              "  }\n",
              "\n",
              "  [theme=dark] .colab-df-quickchart {\n",
              "      --bg-color: #3B4455;\n",
              "      --fill-color: #D2E3FC;\n",
              "      --hover-bg-color: #434B5C;\n",
              "      --hover-fill-color: #FFFFFF;\n",
              "      --disabled-bg-color: #3B4455;\n",
              "      --disabled-fill-color: #666;\n",
              "  }\n",
              "\n",
              "  .colab-df-quickchart {\n",
              "    background-color: var(--bg-color);\n",
              "    border: none;\n",
              "    border-radius: 50%;\n",
              "    cursor: pointer;\n",
              "    display: none;\n",
              "    fill: var(--fill-color);\n",
              "    height: 32px;\n",
              "    padding: 0;\n",
              "    width: 32px;\n",
              "  }\n",
              "\n",
              "  .colab-df-quickchart:hover {\n",
              "    background-color: var(--hover-bg-color);\n",
              "    box-shadow: 0 1px 2px rgba(60, 64, 67, 0.3), 0 1px 3px 1px rgba(60, 64, 67, 0.15);\n",
              "    fill: var(--button-hover-fill-color);\n",
              "  }\n",
              "\n",
              "  .colab-df-quickchart-complete:disabled,\n",
              "  .colab-df-quickchart-complete:disabled:hover {\n",
              "    background-color: var(--disabled-bg-color);\n",
              "    fill: var(--disabled-fill-color);\n",
              "    box-shadow: none;\n",
              "  }\n",
              "\n",
              "  .colab-df-spinner {\n",
              "    border: 2px solid var(--fill-color);\n",
              "    border-color: transparent;\n",
              "    border-bottom-color: var(--fill-color);\n",
              "    animation:\n",
              "      spin 1s steps(1) infinite;\n",
              "  }\n",
              "\n",
              "  @keyframes spin {\n",
              "    0% {\n",
              "      border-color: transparent;\n",
              "      border-bottom-color: var(--fill-color);\n",
              "      border-left-color: var(--fill-color);\n",
              "    }\n",
              "    20% {\n",
              "      border-color: transparent;\n",
              "      border-left-color: var(--fill-color);\n",
              "      border-top-color: var(--fill-color);\n",
              "    }\n",
              "    30% {\n",
              "      border-color: transparent;\n",
              "      border-left-color: var(--fill-color);\n",
              "      border-top-color: var(--fill-color);\n",
              "      border-right-color: var(--fill-color);\n",
              "    }\n",
              "    40% {\n",
              "      border-color: transparent;\n",
              "      border-right-color: var(--fill-color);\n",
              "      border-top-color: var(--fill-color);\n",
              "    }\n",
              "    60% {\n",
              "      border-color: transparent;\n",
              "      border-right-color: var(--fill-color);\n",
              "    }\n",
              "    80% {\n",
              "      border-color: transparent;\n",
              "      border-right-color: var(--fill-color);\n",
              "      border-bottom-color: var(--fill-color);\n",
              "    }\n",
              "    90% {\n",
              "      border-color: transparent;\n",
              "      border-bottom-color: var(--fill-color);\n",
              "    }\n",
              "  }\n",
              "</style>\n",
              "\n",
              "  <script>\n",
              "    async function quickchart(key) {\n",
              "      const quickchartButtonEl =\n",
              "        document.querySelector('#' + key + ' button');\n",
              "      quickchartButtonEl.disabled = true;  // To prevent multiple clicks.\n",
              "      quickchartButtonEl.classList.add('colab-df-spinner');\n",
              "      try {\n",
              "        const charts = await google.colab.kernel.invokeFunction(\n",
              "            'suggestCharts', [key], {});\n",
              "      } catch (error) {\n",
              "        console.error('Error during call to suggestCharts:', error);\n",
              "      }\n",
              "      quickchartButtonEl.classList.remove('colab-df-spinner');\n",
              "      quickchartButtonEl.classList.add('colab-df-quickchart-complete');\n",
              "    }\n",
              "    (() => {\n",
              "      let quickchartButtonEl =\n",
              "        document.querySelector('#df-e5e190f6-a69a-442c-bb78-a8fafa17271e button');\n",
              "      quickchartButtonEl.style.display =\n",
              "        google.colab.kernel.accessAllowed ? 'block' : 'none';\n",
              "    })();\n",
              "  </script>\n",
              "</div>\n",
              "\n",
              "  <div id=\"id_9f7d11d8-a88f-404a-8b79-76a279186dac\">\n",
              "    <style>\n",
              "      .colab-df-generate {\n",
              "        background-color: #E8F0FE;\n",
              "        border: none;\n",
              "        border-radius: 50%;\n",
              "        cursor: pointer;\n",
              "        display: none;\n",
              "        fill: #1967D2;\n",
              "        height: 32px;\n",
              "        padding: 0 0 0 0;\n",
              "        width: 32px;\n",
              "      }\n",
              "\n",
              "      .colab-df-generate:hover {\n",
              "        background-color: #E2EBFA;\n",
              "        box-shadow: 0px 1px 2px rgba(60, 64, 67, 0.3), 0px 1px 3px 1px rgba(60, 64, 67, 0.15);\n",
              "        fill: #174EA6;\n",
              "      }\n",
              "\n",
              "      [theme=dark] .colab-df-generate {\n",
              "        background-color: #3B4455;\n",
              "        fill: #D2E3FC;\n",
              "      }\n",
              "\n",
              "      [theme=dark] .colab-df-generate:hover {\n",
              "        background-color: #434B5C;\n",
              "        box-shadow: 0px 1px 3px 1px rgba(0, 0, 0, 0.15);\n",
              "        filter: drop-shadow(0px 1px 2px rgba(0, 0, 0, 0.3));\n",
              "        fill: #FFFFFF;\n",
              "      }\n",
              "    </style>\n",
              "    <button class=\"colab-df-generate\" onclick=\"generateWithVariable('X_train')\"\n",
              "            title=\"Generate code using this dataframe.\"\n",
              "            style=\"display:none;\">\n",
              "\n",
              "  <svg xmlns=\"http://www.w3.org/2000/svg\" height=\"24px\"viewBox=\"0 0 24 24\"\n",
              "       width=\"24px\">\n",
              "    <path d=\"M7,19H8.4L18.45,9,17,7.55,7,17.6ZM5,21V16.75L18.45,3.32a2,2,0,0,1,2.83,0l1.4,1.43a1.91,1.91,0,0,1,.58,1.4,1.91,1.91,0,0,1-.58,1.4L9.25,21ZM18.45,9,17,7.55Zm-12,3A5.31,5.31,0,0,0,4.9,8.1,5.31,5.31,0,0,0,1,6.5,5.31,5.31,0,0,0,4.9,4.9,5.31,5.31,0,0,0,6.5,1,5.31,5.31,0,0,0,8.1,4.9,5.31,5.31,0,0,0,12,6.5,5.46,5.46,0,0,0,6.5,12Z\"/>\n",
              "  </svg>\n",
              "    </button>\n",
              "    <script>\n",
              "      (() => {\n",
              "      const buttonEl =\n",
              "        document.querySelector('#id_9f7d11d8-a88f-404a-8b79-76a279186dac button.colab-df-generate');\n",
              "      buttonEl.style.display =\n",
              "        google.colab.kernel.accessAllowed ? 'block' : 'none';\n",
              "\n",
              "      buttonEl.onclick = () => {\n",
              "        google.colab.notebook.generateWithVariable('X_train');\n",
              "      }\n",
              "      })();\n",
              "    </script>\n",
              "  </div>\n",
              "\n",
              "    </div>\n",
              "  </div>\n"
            ],
            "application/vnd.google.colaboratory.intrinsic+json": {
              "type": "dataframe",
              "variable_name": "X_train",
              "summary": "{\n  \"name\": \"X_train\",\n  \"rows\": 43200,\n  \"fields\": [\n    {\n      \"column\": \"id\",\n      \"properties\": {\n        \"dtype\": \"number\",\n        \"std\": 25988,\n        \"min\": 0,\n        \"max\": 89997,\n        \"num_unique_values\": 43200,\n        \"samples\": [\n          22667,\n          43398,\n          3646\n        ],\n        \"semantic_type\": \"\",\n        \"description\": \"\"\n      }\n    },\n    {\n      \"column\": \"movie_name\",\n      \"properties\": {\n        \"dtype\": \"string\",\n        \"num_unique_values\": 36276,\n        \"samples\": [\n          \"Writer's Day\",\n          \"Red String of Fate\",\n          \"Yoxlama\"\n        ],\n        \"semantic_type\": \"\",\n        \"description\": \"\"\n      }\n    },\n    {\n      \"column\": \"synopsis\",\n      \"properties\": {\n        \"dtype\": \"string\",\n        \"num_unique_values\": 37921,\n        \"samples\": [\n          \"Being cops turned them into criminals.\",\n          \"Byeol Agi's plans to take revenge on the killer of her father hit a snag when she learns that the killer is the father of her boyfriend.\",\n          \"A tale of two art students who, after a horrific event, are forced to take off across country in a stolen taxi to evade the law.\"\n        ],\n        \"semantic_type\": \"\",\n        \"description\": \"\"\n      }\n    },\n    {\n      \"column\": \"clean_plot\",\n      \"properties\": {\n        \"dtype\": \"string\",\n        \"num_unique_values\": 37904,\n        \"samples\": [\n          \"maren a young woman learns how to survive on the margins of society\",\n          \"the life and loves of great composer giuseppe verdi are played against a background of the great operas of the th century a tender love story of his successful and turbulent life with more than excerpts from his acclaimed operas\",\n          \"in this non linear prequel dr maxine nut and dyson sechmet have found a solution to stop the global pandemic from wiping out what remains of humanity but this comes with a grave cost that is unknown to the masses\"\n        ],\n        \"semantic_type\": \"\",\n        \"description\": \"\"\n      }\n    }\n  ]\n}"
            }
          },
          "metadata": {},
          "execution_count": 29
        }
      ]
    },
    {
      "cell_type": "code",
      "source": [
        "X_train.info()"
      ],
      "metadata": {
        "colab": {
          "base_uri": "https://localhost:8080/"
        },
        "id": "dfqtpgoBbgtf",
        "outputId": "7264fa4e-0acd-4f75-dcef-41ee32b5163a"
      },
      "execution_count": 40,
      "outputs": [
        {
          "output_type": "stream",
          "name": "stdout",
          "text": [
            "<class 'pandas.core.frame.DataFrame'>\n",
            "Index: 43200 entries, 5688 to 15795\n",
            "Data columns (total 4 columns):\n",
            " #   Column      Non-Null Count  Dtype \n",
            "---  ------      --------------  ----- \n",
            " 0   id          43200 non-null  int64 \n",
            " 1   movie_name  43200 non-null  object\n",
            " 2   synopsis    43200 non-null  object\n",
            " 3   clean_plot  43200 non-null  object\n",
            "dtypes: int64(1), object(3)\n",
            "memory usage: 1.6+ MB\n"
          ]
        }
      ]
    },
    {
      "cell_type": "code",
      "source": [
        "# Function to plot the frequency of words in the 'synopsis' column\n",
        "def freq_words(x, terms=30):\n",
        "    # Combine all plot summaries into one long string\n",
        "    all_words = ' '.join([text for text in x])\n",
        "\n",
        "    # Split the string into individual words\n",
        "    all_words = all_words.split()\n",
        "\n",
        "    # Calculate the frequency distribution of words\n",
        "    fdist = nltk.FreqDist(all_words)\n",
        "\n",
        "    # Convert the frequency distribution to a DataFrame\n",
        "    words_df = pd.DataFrame({'word': list(fdist.keys()), 'count': list(fdist.values())})\n",
        "    print(words_df)\n",
        "\n",
        "    # Get the top 'terms' most frequent words\n",
        "    d = words_df.nlargest(columns=\"count\", n=terms)\n",
        "    print(d)\n",
        "\n",
        "    # Plot the top 'terms' most frequent words using a bar plot\n",
        "    plt.figure(figsize=(12, 15))\n",
        "    ax = sns.barplot(data=d, x=\"count\", y=\"word\")\n",
        "    ax.set(ylabel='Word')\n",
        "    plt.show()\n",
        "\n",
        "\n",
        "freq_words(X_train['clean_plot'], 100)\n"
      ],
      "metadata": {
        "colab": {
          "base_uri": "https://localhost:8080/",
          "height": 1000
        },
        "id": "Ybi5D1LpVQhK",
        "outputId": "d1ce5599-bb25-4ad4-acbe-74f39980a3de"
      },
      "execution_count": 31,
      "outputs": [
        {
          "output_type": "stream",
          "name": "stdout",
          "text": [
            "               word  count\n",
            "0           michael    114\n",
            "1               and  29609\n",
            "2        franziskas      1\n",
            "3      relationship    467\n",
            "4           suffers     87\n",
            "...             ...    ...\n",
            "41704     honorably      1\n",
            "41705         timar      1\n",
            "41706         gabon      1\n",
            "41707    equatorial      1\n",
            "41708    libreville      1\n",
            "\n",
            "[41709 rows x 2 columns]\n",
            "          word  count\n",
            "34           a  68287\n",
            "6          the  56015\n",
            "24          to  36887\n",
            "38          of  32818\n",
            "1          and  29609\n",
            "...        ...    ...\n",
            "1114      wife   1173\n",
            "235       goes   1163\n",
            "484       down   1159\n",
            "32         war   1147\n",
            "195   daughter   1144\n",
            "\n",
            "[100 rows x 2 columns]\n"
          ]
        },
        {
          "output_type": "display_data",
          "data": {
            "text/plain": [
              "<Figure size 1200x1500 with 1 Axes>"
            ],
            "image/png": "[encoded data removed]"
          },
          "metadata": {}
        }
      ]
    },
    {
      "cell_type": "code",
      "source": [
        "# Ensure stopwords are downloaded\n",
        "nltk.download('stopwords')\n",
        "stop_words = set(stopwords.words('english'))\n",
        "\n",
        "def remove_stopwords(text):\n",
        "    no_stopword_text = [w for w in text.split() if not w in stop_words]\n",
        "    return ' '.join(no_stopword_text)\n",
        "\n",
        "X_train['clean_plot'] = X_train['clean_plot'].apply(lambda x: remove_stopwords(x))"
      ],
      "metadata": {
        "colab": {
          "base_uri": "https://localhost:8080/"
        },
        "id": "uyAxTwimcUoy",
        "outputId": "cad406a3-9645-498e-ba51-b2ff559923d7"
      },
      "execution_count": 33,
      "outputs": [
        {
          "output_type": "stream",
          "name": "stderr",
          "text": [
            "[nltk_data] Downloading package stopwords to /root/nltk_data...\n",
            "[nltk_data]   Unzipping corpora/stopwords.zip.\n"
          ]
        }
      ]
    },
    {
      "cell_type": "code",
      "source": [
        "freq_words(X_train['clean_plot'], 100)"
      ],
      "metadata": {
        "colab": {
          "base_uri": "https://localhost:8080/",
          "height": 1000
        },
        "id": "fWKwYAirc4pz",
        "outputId": "6191794c-efc9-4250-a3a9-0f389cedebd2"
      },
      "execution_count": 35,
      "outputs": [
        {
          "output_type": "stream",
          "name": "stdout",
          "text": [
            "               word  count\n",
            "0           michael    114\n",
            "1        franziskas      1\n",
            "2      relationship    467\n",
            "3           suffers     87\n",
            "4       separations      3\n",
            "...             ...    ...\n",
            "41567     honorably      1\n",
            "41568         timar      1\n",
            "41569         gabon      1\n",
            "41570    equatorial      1\n",
            "41571    libreville      1\n",
            "\n",
            "[41572 rows x 2 columns]\n",
            "       word  count\n",
            "41    young   4939\n",
            "80      man   3727\n",
            "121    life   3675\n",
            "91      two   3287\n",
            "94      one   3176\n",
            "...     ...    ...\n",
            "562    plot    723\n",
            "122    four    713\n",
            "2340  human    708\n",
            "400    lost    703\n",
            "428    true    695\n",
            "\n",
            "[100 rows x 2 columns]\n"
          ]
        },
        {
          "output_type": "display_data",
          "data": {
            "text/plain": [
              "<Figure size 1200x1500 with 1 Axes>"
            ],
            "image/png": "[encoded data removed]"
          },
          "metadata": {}
        }
      ]
    },
    {
      "cell_type": "code",
      "source": [
        "# Initialize the TfidfVectorizer\n",
        "tfidf_vectorizer = TfidfVectorizer()\n",
        "\n",
        "# Fit and transform the training data\n",
        "X_train_tfidf = tfidf_vectorizer.fit_transform(X_train['clean_plot'])\n",
        "\n",
        "# Transform the test data\n",
        "X_test_tfidf = tfidf_vectorizer.transform(X_test['clean_plot'])\n",
        "\n",
        "# Verify the shapes of the transformed data\n",
        "print(X_train_tfidf.shape)\n",
        "print(X_test_tfidf.shape)\n"
      ],
      "metadata": {
        "colab": {
          "base_uri": "https://localhost:8080/"
        },
        "id": "Zc2aHAJSc_h_",
        "outputId": "f1c58d35-188f-4511-d960-678d19d7c27c"
      },
      "execution_count": 37,
      "outputs": [
        {
          "output_type": "stream",
          "name": "stdout",
          "text": [
            "(43200, 41554)\n",
            "(10800, 41554)\n"
          ]
        }
      ]
    },
    {
      "cell_type": "code",
      "source": [
        "X_train_tfidf"
      ],
      "metadata": {
        "colab": {
          "base_uri": "https://localhost:8080/"
        },
        "id": "foo7i-cXd9uj",
        "outputId": "f1ea7c49-7979-47ce-d677-1eeeb987d8a4"
      },
      "execution_count": 38,
      "outputs": [
        {
          "output_type": "execute_result",
          "data": {
            "text/plain": [
              "<43200x41554 sparse matrix of type '<class 'numpy.float64'>'\n",
              "\twith 633015 stored elements in Compressed Sparse Row format>"
            ]
          },
          "metadata": {},
          "execution_count": 38
        }
      ]
    },
    {
      "cell_type": "code",
      "source": [
        "y_train.info()\n",
        "y_train.head()"
      ],
      "metadata": {
        "colab": {
          "base_uri": "https://localhost:8080/"
        },
        "id": "A5KHaRA_hN3A",
        "outputId": "23dfad90-43e7-46f3-9e1e-202d303d06b8"
      },
      "execution_count": 47,
      "outputs": [
        {
          "output_type": "stream",
          "name": "stdout",
          "text": [
            "<class 'pandas.core.series.Series'>\n",
            "Index: 43200 entries, 5688 to 15795\n",
            "Series name: genre\n",
            "Non-Null Count  Dtype \n",
            "--------------  ----- \n",
            "43200 non-null  object\n",
            "dtypes: object(1)\n",
            "memory usage: 675.0+ KB\n"
          ]
        },
        {
          "output_type": "execute_result",
          "data": {
            "text/plain": [
              "5688     romance\n",
              "40513     action\n",
              "17163     horror\n",
              "39180     family\n",
              "7905      horror\n",
              "Name: genre, dtype: object"
            ]
          },
          "metadata": {},
          "execution_count": 47
        }
      ]
    },
    {
      "cell_type": "code",
      "source": [
        "# Split the training data into training and validation sets\n",
        "X = X_train_tfidf\n",
        "y = y_train\n",
        "\n",
        "X_train_split, X_val_split, y_train_split, y_val_split = train_test_split(X, y, test_size=0.2, random_state=42)"
      ],
      "metadata": {
        "id": "a-hqvVC3n7xC"
      },
      "execution_count": 62,
      "outputs": []
    },
    {
      "cell_type": "markdown",
      "source": [
        "**Using Multinomial NB classifer**"
      ],
      "metadata": {
        "id": "u1k0rQAo2Pj1"
      }
    },
    {
      "cell_type": "code",
      "source": [
        "# Initialize and train the Multinomial Naive Bayes classifier\n",
        "classifier = MultinomialNB()\n",
        "classifier.fit(X_train_split, y_train_split)\n",
        "\n",
        "# Predict the validation set\n",
        "y_pred = classifier.predict(X_val_split)\n",
        "\n",
        "# Calculate accuracy and print the classification report\n",
        "accuracy = accuracy_score(y_val_split, y_pred)\n",
        "print(\"Validation Accuracy:\", accuracy)\n",
        "print(classification_report(y_val_split, y_pred))"
      ],
      "metadata": {
        "colab": {
          "base_uri": "https://localhost:8080/"
        },
        "id": "zdNyL31xgmwN",
        "outputId": "d9166145-636e-485a-f125-2244e29ecc3f"
      },
      "execution_count": 63,
      "outputs": [
        {
          "output_type": "stream",
          "name": "stdout",
          "text": [
            "Validation Accuracy: 0.35138888888888886\n",
            "              precision    recall  f1-score   support\n",
            "\n",
            "      action       0.32      0.27      0.29       878\n",
            "   adventure       0.31      0.23      0.27       876\n",
            "       crime       0.36      0.41      0.38       870\n",
            "      family       0.40      0.44      0.41       845\n",
            "     fantasy       0.29      0.24      0.27       855\n",
            "      horror       0.38      0.46      0.41       854\n",
            "     mystery       0.28      0.32      0.30       853\n",
            "     romance       0.48      0.52      0.50       872\n",
            "       scifi       0.39      0.52      0.45       828\n",
            "    thriller       0.22      0.13      0.17       909\n",
            "\n",
            "    accuracy                           0.35      8640\n",
            "   macro avg       0.34      0.35      0.34      8640\n",
            "weighted avg       0.34      0.35      0.34      8640\n",
            "\n"
          ]
        }
      ]
    },
    {
      "cell_type": "code",
      "source": [
        "# Transform the test data using the TF-IDF vectorizer\n",
        "X_test_tfidf = tfidf_vectorizer.transform(X_test['clean_plot'])\n",
        "\n",
        "# Predict genres for the test set\n",
        "X_test_predictions = classifier.predict(X_test_tfidf)"
      ],
      "metadata": {
        "id": "1I6mSn_rj83m"
      },
      "execution_count": 64,
      "outputs": []
    },
    {
      "cell_type": "code",
      "source": [
        "X_test_predictions"
      ],
      "metadata": {
        "colab": {
          "base_uri": "https://localhost:8080/"
        },
        "id": "onF8QK2Tk_Jy",
        "outputId": "6197ef59-da47-41ca-8f5e-1f0c41826d8e"
      },
      "execution_count": 65,
      "outputs": [
        {
          "output_type": "execute_result",
          "data": {
            "text/plain": [
              "array(['mystery', 'scifi', 'adventure', ..., 'family', 'crime', 'family'],\n",
              "      dtype='<U9')"
            ]
          },
          "metadata": {},
          "execution_count": 65
        }
      ]
    },
    {
      "cell_type": "code",
      "source": [
        "X_test_predictions.shape"
      ],
      "metadata": {
        "colab": {
          "base_uri": "https://localhost:8080/"
        },
        "id": "2nBKfQp1kUUH",
        "outputId": "e16de080-3949-446b-84ce-ab246995c2fb"
      },
      "execution_count": 66,
      "outputs": [
        {
          "output_type": "execute_result",
          "data": {
            "text/plain": [
              "(10800,)"
            ]
          },
          "metadata": {},
          "execution_count": 66
        }
      ]
    },
    {
      "cell_type": "code",
      "source": [
        "y_test"
      ],
      "metadata": {
        "colab": {
          "base_uri": "https://localhost:8080/"
        },
        "id": "Ue9skONIlEvH",
        "outputId": "e0a4872f-ca7b-4b15-9c3f-ffc0599a348c"
      },
      "execution_count": 59,
      "outputs": [
        {
          "output_type": "execute_result",
          "data": {
            "text/plain": [
              "30246       horror\n",
              "34164        scifi\n",
              "40692       horror\n",
              "28724    adventure\n",
              "28097      fantasy\n",
              "           ...    \n",
              "37925        crime\n",
              "10036      mystery\n",
              "52443      romance\n",
              "25449        crime\n",
              "37906    adventure\n",
              "Name: genre, Length: 10800, dtype: object"
            ]
          },
          "metadata": {},
          "execution_count": 59
        }
      ]
    },
    {
      "cell_type": "code",
      "source": [
        "y_test.shape"
      ],
      "metadata": {
        "colab": {
          "base_uri": "https://localhost:8080/"
        },
        "id": "8oipA02VlLoP",
        "outputId": "1c53c6b1-7339-4928-ee33-0df837751ab1"
      },
      "execution_count": 67,
      "outputs": [
        {
          "output_type": "execute_result",
          "data": {
            "text/plain": [
              "(10800,)"
            ]
          },
          "metadata": {},
          "execution_count": 67
        }
      ]
    },
    {
      "cell_type": "code",
      "source": [
        "# Compare predictions with actual labels\n",
        "accuracy = accuracy_score(y_test, X_test_predictions)\n",
        "print(\"Test Set Accuracy:\", accuracy)\n",
        "\n",
        "# Print classification report for more detailed evaluation\n",
        "print(classification_report(y_test, X_test_predictions))"
      ],
      "metadata": {
        "colab": {
          "base_uri": "https://localhost:8080/"
        },
        "id": "d7LOlZVmkvX8",
        "outputId": "075c11b7-9d29-44c2-fb5c-e173a094ec86"
      },
      "execution_count": 68,
      "outputs": [
        {
          "output_type": "stream",
          "name": "stdout",
          "text": [
            "Test Set Accuracy: 0.3521296296296296\n",
            "              precision    recall  f1-score   support\n",
            "\n",
            "      action       0.28      0.23      0.25      1094\n",
            "   adventure       0.29      0.20      0.24      1067\n",
            "       crime       0.36      0.39      0.37      1134\n",
            "      family       0.39      0.44      0.41      1049\n",
            "     fantasy       0.32      0.29      0.31      1057\n",
            "      horror       0.39      0.47      0.43      1116\n",
            "     mystery       0.27      0.29      0.28      1074\n",
            "     romance       0.49      0.54      0.52      1075\n",
            "       scifi       0.39      0.49      0.43      1077\n",
            "    thriller       0.24      0.17      0.20      1057\n",
            "\n",
            "    accuracy                           0.35     10800\n",
            "   macro avg       0.34      0.35      0.34     10800\n",
            "weighted avg       0.34      0.35      0.34     10800\n",
            "\n"
          ]
        }
      ]
    },
    {
      "cell_type": "markdown",
      "source": [
        "**Using Random Forest Classifier**"
      ],
      "metadata": {
        "id": "-S2AUb4F2bxs"
      }
    },
    {
      "cell_type": "code",
      "source": [
        "X_test_predictions_rf = classifier_rf.predict(X_test_tfidf)"
      ],
      "metadata": {
        "id": "PVTjQr6KoItf"
      },
      "execution_count": 70,
      "outputs": []
    },
    {
      "cell_type": "code",
      "source": [
        "from sklearn.ensemble import RandomForestClassifier\n",
        "# Initialize and train the Random Forest classifier\n",
        "classifier_rf = RandomForestClassifier(random_state=42)\n",
        "classifier_rf.fit(X_train_split, y_train_split)\n",
        "\n",
        "# Predict the validation set and evaluate\n",
        "y_pred_rf = classifier_rf.predict(X_val_split)\n",
        "accuracy_rf = accuracy_score(y_val_split, y_pred_rf)\n",
        "print(\"Random Forest Validation Accuracy:\", accuracy_rf)\n",
        "print(classification_report(y_val_split, y_pred_rf))"
      ],
      "metadata": {
        "colab": {
          "base_uri": "https://localhost:8080/"
        },
        "id": "vko547vhoI6i",
        "outputId": "2b7cea90-8a2f-4142-ab1e-459c6a038822"
      },
      "execution_count": 69,
      "outputs": [
        {
          "output_type": "stream",
          "name": "stdout",
          "text": [
            "Random Forest Validation Accuracy: 0.27511574074074074\n",
            "              precision    recall  f1-score   support\n",
            "\n",
            "      action       0.21      0.16      0.18       878\n",
            "   adventure       0.21      0.16      0.18       876\n",
            "       crime       0.28      0.34      0.31       870\n",
            "      family       0.30      0.40      0.34       845\n",
            "     fantasy       0.21      0.16      0.18       855\n",
            "      horror       0.31      0.33      0.32       854\n",
            "     mystery       0.21      0.22      0.21       853\n",
            "     romance       0.38      0.51      0.43       872\n",
            "       scifi       0.34      0.43      0.38       828\n",
            "    thriller       0.13      0.06      0.08       909\n",
            "\n",
            "    accuracy                           0.28      8640\n",
            "   macro avg       0.26      0.28      0.26      8640\n",
            "weighted avg       0.26      0.28      0.26      8640\n",
            "\n"
          ]
        }
      ]
    },
    {
      "cell_type": "code",
      "source": [
        "# Compare predictions with actual labels\n",
        "accuracy_rf = accuracy_score(y_test, X_test_predictions_rf)\n",
        "print(\"Test Set Accuracy:\", accuracy_rf)\n",
        "\n",
        "# Print classification report for more detailed evaluation\n",
        "print(classification_report(y_test, X_test_predictions_rf))"
      ],
      "metadata": {
        "colab": {
          "base_uri": "https://localhost:8080/"
        },
        "id": "dvcZIJ0so7Sl",
        "outputId": "81be4dc5-92c7-478b-f11e-4f7859aaea67"
      },
      "execution_count": 71,
      "outputs": [
        {
          "output_type": "stream",
          "name": "stdout",
          "text": [
            "Test Set Accuracy: 0.2912962962962963\n",
            "              precision    recall  f1-score   support\n",
            "\n",
            "      action       0.23      0.18      0.20      1094\n",
            "   adventure       0.21      0.16      0.18      1067\n",
            "       crime       0.32      0.35      0.33      1134\n",
            "      family       0.30      0.40      0.34      1049\n",
            "     fantasy       0.23      0.17      0.19      1057\n",
            "      horror       0.33      0.36      0.35      1116\n",
            "     mystery       0.22      0.22      0.22      1074\n",
            "     romance       0.39      0.56      0.46      1075\n",
            "       scifi       0.35      0.41      0.38      1077\n",
            "    thriller       0.15      0.09      0.11      1057\n",
            "\n",
            "    accuracy                           0.29     10800\n",
            "   macro avg       0.27      0.29      0.28     10800\n",
            "weighted avg       0.27      0.29      0.28     10800\n",
            "\n"
          ]
        }
      ]
    },
    {
      "cell_type": "markdown",
      "source": [
        "**Using SVM**"
      ],
      "metadata": {
        "id": "xhxTvp5F2qug"
      }
    },
    {
      "cell_type": "code",
      "source": [
        "from sklearn.svm import SVC\n",
        "\n",
        "# Initialize and train the SVM classifier\n",
        "classifier_svm = SVC(kernel='linear', random_state=42)\n",
        "classifier_svm.fit(X_train_split, y_train_split)\n",
        "\n",
        "# Predict the validation set and evaluate\n",
        "y_pred_svm = classifier_svm.predict(X_val_split)\n",
        "accuracy_svm = accuracy_score(y_val_split, y_pred_svm)\n",
        "print(\"SVM Validation Accuracy:\", accuracy_svm)\n",
        "print(classification_report(y_val_split, y_pred_svm))"
      ],
      "metadata": {
        "colab": {
          "base_uri": "https://localhost:8080/"
        },
        "id": "zOUPrGZCskzd",
        "outputId": "e5c564d5-3f9e-4c32-abb6-5636fe880692"
      },
      "execution_count": 72,
      "outputs": [
        {
          "output_type": "stream",
          "name": "stdout",
          "text": [
            "SVM Validation Accuracy: 0.3269675925925926\n",
            "              precision    recall  f1-score   support\n",
            "\n",
            "      action       0.28      0.29      0.28       878\n",
            "   adventure       0.25      0.24      0.25       876\n",
            "       crime       0.34      0.36      0.35       870\n",
            "      family       0.37      0.42      0.39       845\n",
            "     fantasy       0.26      0.24      0.25       855\n",
            "      horror       0.38      0.38      0.38       854\n",
            "     mystery       0.27      0.28      0.27       853\n",
            "     romance       0.44      0.48      0.46       872\n",
            "       scifi       0.40      0.47      0.43       828\n",
            "    thriller       0.22      0.15      0.18       909\n",
            "\n",
            "    accuracy                           0.33      8640\n",
            "   macro avg       0.32      0.33      0.32      8640\n",
            "weighted avg       0.32      0.33      0.32      8640\n",
            "\n"
          ]
        }
      ]
    },
    {
      "cell_type": "code",
      "source": [
        "X_test_predictions_svm = classifier_svm.predict(X_test_tfidf)"
      ],
      "metadata": {
        "id": "s1Y6sPmXsqGe"
      },
      "execution_count": 73,
      "outputs": []
    },
    {
      "cell_type": "code",
      "source": [
        "# Compare predictions with actual labels\n",
        "accuracy_svm = accuracy_score(y_test, X_test_predictions_svm)\n",
        "print(\"Test Set Accuracy:\", accuracy_svm)\n",
        "\n",
        "# Print classification report for more detailed evaluation\n",
        "print(classification_report(y_test, X_test_predictions_svm))"
      ],
      "metadata": {
        "colab": {
          "base_uri": "https://localhost:8080/"
        },
        "id": "AgMRh-OAsvvs",
        "outputId": "6af6a9ac-7edd-4dd1-e08d-fef66b6f3f7f"
      },
      "execution_count": 74,
      "outputs": [
        {
          "output_type": "stream",
          "name": "stdout",
          "text": [
            "Test Set Accuracy: 0.3312037037037037\n",
            "              precision    recall  f1-score   support\n",
            "\n",
            "      action       0.25      0.26      0.26      1094\n",
            "   adventure       0.25      0.23      0.24      1067\n",
            "       crime       0.34      0.34      0.34      1134\n",
            "      family       0.39      0.44      0.41      1049\n",
            "     fantasy       0.30      0.28      0.29      1057\n",
            "      horror       0.38      0.40      0.39      1116\n",
            "     mystery       0.26      0.26      0.26      1074\n",
            "     romance       0.49      0.53      0.50      1075\n",
            "       scifi       0.39      0.42      0.40      1077\n",
            "    thriller       0.21      0.16      0.18      1057\n",
            "\n",
            "    accuracy                           0.33     10800\n",
            "   macro avg       0.32      0.33      0.33     10800\n",
            "weighted avg       0.33      0.33      0.33     10800\n",
            "\n"
          ]
        }
      ]
    },
    {
      "cell_type": "markdown",
      "source": [
        "**Using Gradient Boost Classifier**"
      ],
      "metadata": {
        "id": "6XvafSyucUYR"
      }
    },
    {
      "cell_type": "code",
      "source": [
        "from sklearn.preprocessing import LabelEncoder\n",
        "from xgboost import XGBClassifier\n",
        "\n",
        "# Initialize LabelEncoder\n",
        "label_encoder = LabelEncoder()\n",
        "\n",
        "# Fit LabelEncoder on the entire y_train (original genre labels)\n",
        "label_encoder.fit(y_train)\n",
        "\n",
        "# Transform y_train and y_val_split to numeric labels\n",
        "y_train_encoded = label_encoder.transform(y_train_split)\n",
        "y_val_encoded = label_encoder.transform(y_val_split)\n",
        "\n",
        "# Initialize and train the XGBoost classifier\n",
        "classifier_xgb = XGBClassifier(random_state=42)\n",
        "classifier_xgb.fit(X_train_split, y_train_encoded)\n",
        "\n",
        "# Predict the validation set and evaluate\n",
        "y_pred_xgb = classifier_xgb.predict(X_val_split)\n",
        "accuracy_xgb = accuracy_score(y_val_encoded, y_pred_xgb)\n",
        "print(\"XGBoost Validation Accuracy:\", accuracy_xgb)\n",
        "print(classification_report(y_val_encoded, y_pred_xgb))\n",
        "\n",
        "# Inverse transform to get original labels if needed\n",
        "# y_pred_original = label_encoder.inverse_transform(y_pred_xgb)\n"
      ],
      "metadata": {
        "colab": {
          "base_uri": "https://localhost:8080/"
        },
        "id": "K7Bpky_Z6zn_",
        "outputId": "49e522c0-4c44-400e-963e-5ebf6f3df181"
      },
      "execution_count": 76,
      "outputs": [
        {
          "output_type": "stream",
          "name": "stdout",
          "text": [
            "XGBoost Validation Accuracy: 0.3130787037037037\n",
            "              precision    recall  f1-score   support\n",
            "\n",
            "           0       0.28      0.25      0.26       878\n",
            "           1       0.24      0.25      0.24       876\n",
            "           2       0.32      0.34      0.33       870\n",
            "           3       0.32      0.38      0.35       845\n",
            "           4       0.28      0.22      0.25       855\n",
            "           5       0.36      0.35      0.35       854\n",
            "           6       0.27      0.27      0.27       853\n",
            "           7       0.42      0.50      0.46       872\n",
            "           8       0.39      0.46      0.42       828\n",
            "           9       0.19      0.14      0.16       909\n",
            "\n",
            "    accuracy                           0.31      8640\n",
            "   macro avg       0.31      0.31      0.31      8640\n",
            "weighted avg       0.31      0.31      0.31      8640\n",
            "\n"
          ]
        }
      ]
    },
    {
      "cell_type": "code",
      "source": [
        "# Assuming X_test_tfidf is already transformed using TF-IDF vectorizer\n",
        "X_test_predictions_xgb = classifier_xgb.predict(X_test_tfidf)\n",
        "X_test_predictions_xgb"
      ],
      "metadata": {
        "colab": {
          "base_uri": "https://localhost:8080/"
        },
        "id": "xMz2inLi7Evp",
        "outputId": "97911404-6ac8-4790-9aa1-d57a2c6da703"
      },
      "execution_count": 79,
      "outputs": [
        {
          "output_type": "execute_result",
          "data": {
            "text/plain": [
              "array([6, 8, 1, ..., 7, 2, 3])"
            ]
          },
          "metadata": {},
          "execution_count": 79
        }
      ]
    },
    {
      "cell_type": "code",
      "source": [
        "from sklearn.preprocessing import LabelEncoder\n",
        "\n",
        "# Initialize LabelEncoder and fit on y_train (assuming label encoding was done on y_train)\n",
        "label_encoder = LabelEncoder()\n",
        "label_encoder.fit(y_train)\n",
        "\n",
        "# Transform y_test to numeric labels\n",
        "y_test_encoded = label_encoder.transform(y_test)\n",
        "\n",
        "# Now compare predictions with numeric labels\n",
        "accuracy_xgb = accuracy_score(y_test_encoded, X_test_predictions_xgb)\n",
        "print(\"Test Set Accuracy:\", accuracy_xgb)\n",
        "\n",
        "# Print classification report for more detailed evaluation\n",
        "print(classification_report(y_test_encoded, X_test_predictions_xgb))\n"
      ],
      "metadata": {
        "colab": {
          "base_uri": "https://localhost:8080/"
        },
        "id": "YVM3MPkpKfVb",
        "outputId": "09731bc3-34c9-4857-c363-c0197e7772c6"
      },
      "execution_count": 82,
      "outputs": [
        {
          "output_type": "stream",
          "name": "stdout",
          "text": [
            "Test Set Accuracy: 0.3188888888888889\n",
            "              precision    recall  f1-score   support\n",
            "\n",
            "           0       0.25      0.21      0.23      1094\n",
            "           1       0.22      0.22      0.22      1067\n",
            "           2       0.35      0.35      0.35      1134\n",
            "           3       0.35      0.41      0.38      1049\n",
            "           4       0.25      0.21      0.23      1057\n",
            "           5       0.37      0.38      0.37      1116\n",
            "           6       0.26      0.26      0.26      1074\n",
            "           7       0.45      0.54      0.49      1075\n",
            "           8       0.39      0.44      0.42      1077\n",
            "           9       0.20      0.16      0.18      1057\n",
            "\n",
            "    accuracy                           0.32     10800\n",
            "   macro avg       0.31      0.32      0.31     10800\n",
            "weighted avg       0.31      0.32      0.31     10800\n",
            "\n"
          ]
        }
      ]
    }
  ]
}